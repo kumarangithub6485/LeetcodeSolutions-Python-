{
 "cells": [
  {
   "cell_type": "code",
   "execution_count": 14,
   "metadata": {},
   "outputs": [
    {
     "name": "stdout",
     "output_type": "stream",
     "text": [
      "[1, 2]\n"
     ]
    }
   ],
   "source": [
    "def remove_duplicates_space(arr):\n",
    "    \n",
    "    n=len(arr)\n",
    "    if(n==0 or n == 1):\n",
    "        return arr\n",
    "        \n",
    "    temp= [0]*n\n",
    "    pivot=0\n",
    "    for last in range(0, n-1):\n",
    "        if(arr[last]!=arr[last+1]):\n",
    "            temp[pivot]=arr[last]\n",
    "            pivot=pivot+1\n",
    "    temp[pivot]=arr[n-1]\n",
    "    return temp[0:pivot+1]\n",
    "arr = [1,1,2]\n",
    "print(remove_duplicates_space(arr))\n"
   ]
  }
 ],
 "metadata": {
  "kernelspec": {
   "display_name": "Python 3",
   "language": "python",
   "name": "python3"
  },
  "language_info": {
   "codemirror_mode": {
    "name": "ipython",
    "version": 3
   },
   "file_extension": ".py",
   "mimetype": "text/x-python",
   "name": "python",
   "nbconvert_exporter": "python",
   "pygments_lexer": "ipython3",
   "version": "3.8.5"
  }
 },
 "nbformat": 4,
 "nbformat_minor": 4
}
